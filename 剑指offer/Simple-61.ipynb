{
 "cells": [
  {
   "cell_type": "markdown",
   "metadata": {},
   "source": [
    "从若干副扑克牌中随机抽 5 张牌，判断是不是一个顺子，即这5张牌是不是连续的。2～10为数字本身，A为1，J为11，Q为12，K为13，而大、小王为 0 ，可以看成任意数字。A 不能视为 14。\n"
   ]
  },
  {
   "cell_type": "markdown",
   "metadata": {},
   "source": [
    "# 正确的解法"
   ]
  },
  {
   "cell_type": "markdown",
   "metadata": {},
   "source": [
    "思路：\n",
    "根据题意，此 55 张牌是顺子的充分条件如下：\n",
    "\n",
    "1. 除大小王外，所有牌无重复；\n",
    "2. 设此 55 张牌中最大的牌为 maxmax ，最小的牌为 minmin （大小王除外），则需满足：\n",
    "$$max - min < 5$$\n",
    "$$max−min<5$$\n",
    "\n",
    "因而，可将问题转化为：此5张牌是否满足以上两个条件？\n"
   ]
  },
  {
   "cell_type": "code",
   "execution_count": null,
   "metadata": {},
   "outputs": [],
   "source": [
    "class Solution:\n",
    "    def isStraight(self, nums: List[int]) -> bool:\n",
    "        repeat = set()\n",
    "        ma, mi = 0, 14\n",
    "        for num in nums:\n",
    "            if num == 0: \n",
    "                continue # 跳过大小王\n",
    "            ma = max(ma, num) # 最大牌\n",
    "            mi = min(mi, num) # 最小牌\n",
    "            if num in repeat: \n",
    "                return False # 若有重复，提前返回 false\n",
    "            repeat.add(num) # 添加牌至 Set\n",
    "        return ma - mi < 5 # 最大牌 - 最小牌 < 5 则可构成顺子 \n"
   ]
  },
  {
   "cell_type": "markdown",
   "metadata": {},
   "source": [
    "# 错误解法\n",
    "\n",
    "错误原因：误以为只能固定顺序"
   ]
  },
  {
   "cell_type": "code",
   "execution_count": 6,
   "metadata": {},
   "outputs": [
    {
     "name": "stdout",
     "output_type": "stream",
     "text": [
      "1\n",
      "1\n",
      "2\n",
      "1\n",
      "1\n",
      "1\n"
     ]
    },
    {
     "data": {
      "text/plain": [
       "True"
      ]
     },
     "execution_count": 6,
     "metadata": {},
     "output_type": "execute_result"
    }
   ],
   "source": [
    "def isS():\n",
    "    nums=[0,0,1,2,5]\n",
    "    for i in range(1,len(nums)):\n",
    "        diff=abs(nums[i]-nums[i-1])\n",
    "        if diff!=1 and diff!=nums[i] and diff !=nums[i-1] and diff!=0:\n",
    "            return False\n",
    "    return True\n",
    "isS()\n"
   ]
  }
 ],
 "metadata": {
  "kernelspec": {
   "display_name": "Python 3.6.2 ('pytorch')",
   "language": "python",
   "name": "python3"
  },
  "language_info": {
   "codemirror_mode": {
    "name": "ipython",
    "version": 3
   },
   "file_extension": ".py",
   "mimetype": "text/x-python",
   "name": "python",
   "nbconvert_exporter": "python",
   "pygments_lexer": "ipython3",
   "version": "3.6.2"
  },
  "orig_nbformat": 4,
  "vscode": {
   "interpreter": {
    "hash": "1be8e1e697be24aa51be46f7515f4d96c6005120fc689094ce96895b044c9b1b"
   }
  }
 },
 "nbformat": 4,
 "nbformat_minor": 2
}
