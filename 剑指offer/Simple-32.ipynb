{
 "cells": [
  {
   "cell_type": "markdown",
   "metadata": {},
   "source": [
    "从上到下打印二叉树"
   ]
  },
  {
   "cell_type": "markdown",
   "metadata": {},
   "source": [
    "思路：\n",
    "\n",
    "+ BFS"
   ]
  },
  {
   "cell_type": "code",
   "execution_count": null,
   "metadata": {},
   "outputs": [],
   "source": [
    "import collections\n",
    "from turtle import left\n",
    "\n",
    "\n",
    "class TreeNode:\n",
    "    def __init__(self, x):\n",
    "        self.val = x\n",
    "        self.left = None\n",
    "        self.right = None\n",
    "\n",
    "def solve(root:TreeNode):\n",
    "    if not root:\n",
    "        return []\n",
    "    ans,queue=[],collections.deque()\n",
    "    queue.append(root)\n",
    "    while queue:\n",
    "        tmp=[]\n",
    "        length=len(queue) #每一层的数量\n",
    "        for _ in range(length):\n",
    "            node=queue.popleft()\n",
    "            tmp.append(node.val)\n",
    "            if node.left:\n",
    "                queue.append(node.left)\n",
    "            if node.right:\n",
    "                queue.append(node.right)\n",
    "        ans.append(tmp)\n",
    "    return ans"
   ]
  }
 ],
 "metadata": {
  "language_info": {
   "name": "python"
  },
  "orig_nbformat": 4
 },
 "nbformat": 4,
 "nbformat_minor": 2
}
