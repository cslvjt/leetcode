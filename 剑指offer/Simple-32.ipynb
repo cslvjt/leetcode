{
 "cells": [
  {
   "cell_type": "markdown",
   "metadata": {},
   "source": [
    "# 从上到下打印二叉树-Ⅰ"
   ]
  },
  {
   "cell_type": "markdown",
   "metadata": {},
   "source": [
    "思路：\n",
    "+ BFS"
   ]
  },
  {
   "cell_type": "code",
   "execution_count": null,
   "metadata": {},
   "outputs": [],
   "source": [
    "import collections\n",
    "class TreeNode:\n",
    "    def __init__(self, x):\n",
    "        self.val = x\n",
    "        self.left = None\n",
    "        self.right = None\n",
    "def solve(root:TreeNode):\n",
    "    if not root:\n",
    "        return []\n",
    "    ans=[]\n",
    "    queue=collections.deque()\n",
    "    queue.append(root)\n",
    "    while queue:\n",
    "        tmp=queue.popleft()\n",
    "        queue.pop()\n",
    "        ans.append(tmp.val)\n",
    "        if tmp.left:\n",
    "            queue.append(tmp.left)\n",
    "        if tmp.right:\n",
    "            queue.append(tmp.right)\n",
    "    return ans\n"
   ]
  },
  {
   "cell_type": "markdown",
   "metadata": {},
   "source": [
    "# 从上到下打印二叉树-Ⅱ"
   ]
  },
  {
   "cell_type": "markdown",
   "metadata": {},
   "source": [
    "思路：\n",
    "\n",
    "+ BFS"
   ]
  },
  {
   "cell_type": "code",
   "execution_count": null,
   "metadata": {},
   "outputs": [],
   "source": [
    "import collections\n",
    "\n",
    "\n",
    "class TreeNode:\n",
    "    def __init__(self, x):\n",
    "        self.val = x\n",
    "        self.left = None\n",
    "        self.right = None\n",
    "\n",
    "def solve(root:TreeNode):\n",
    "    if not root:\n",
    "        return []\n",
    "    ans,queue=[],collections.deque()\n",
    "    queue.append(root)\n",
    "    while queue:\n",
    "        tmp=[]\n",
    "        length=len(queue) #每一层的数量\n",
    "        for _ in range(length):\n",
    "            node=queue.popleft()\n",
    "            tmp.append(node.val)\n",
    "            if node.left:\n",
    "                queue.append(node.left)\n",
    "            if node.right:\n",
    "                queue.append(node.right)\n",
    "        ans.append(tmp)\n",
    "    return ans"
   ]
  },
  {
   "cell_type": "markdown",
   "metadata": {},
   "source": [
    "# 从上到下打印二叉树-Ⅲ"
   ]
  },
  {
   "cell_type": "code",
   "execution_count": null,
   "metadata": {},
   "outputs": [],
   "source": [
    "import collections\n",
    "\n",
    "\n",
    "class TreeNode:\n",
    "    def __init__(self, x):\n",
    "        self.val = x\n",
    "        self.left = None\n",
    "        self.right = None\n",
    "\n",
    "def solve(root:TreeNode):\n",
    "    if not root:\n",
    "        return []\n",
    "    ans,queue=[],collections.deque()\n",
    "    queue.append(root)\n",
    "    cnt=0\n",
    "    while queue:\n",
    "        tmp=collections.deque()\n",
    "        length=len(queue) #每一层的数量\n",
    "        for _ in range(length):\n",
    "            node=queue.popleft()\n",
    "            if len(ans)%2:\n",
    "                tmp.appendleft(node.val)\n",
    "            else:\n",
    "                tmp.append(node.val)\n",
    "            tmp.append(node.val)\n",
    "            if node.left:\n",
    "                queue.append(node.left)\n",
    "            if node.right:\n",
    "                queue.append(node.right)\n",
    "        ans.append(list(tmp))\n",
    "    return ans"
   ]
  }
 ],
 "metadata": {
  "kernelspec": {
   "display_name": "Python 3.6.2 ('pytorch')",
   "language": "python",
   "name": "python3"
  },
  "language_info": {
   "codemirror_mode": {
    "name": "ipython",
    "version": 3
   },
   "file_extension": ".py",
   "mimetype": "text/x-python",
   "name": "python",
   "nbconvert_exporter": "python",
   "pygments_lexer": "ipython3",
   "version": "3.6.2"
  },
  "orig_nbformat": 4,
  "vscode": {
   "interpreter": {
    "hash": "1be8e1e697be24aa51be46f7515f4d96c6005120fc689094ce96895b044c9b1b"
   }
  }
 },
 "nbformat": 4,
 "nbformat_minor": 2
}
