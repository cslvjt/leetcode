{
 "cells": [
  {
   "cell_type": "markdown",
   "metadata": {},
   "source": [
    "输入一个整型数组，数组中的一个或连续多个整数组成一个子数组。求所有子数组的和的最大值。\n",
    "\n",
    "要求时间复杂度为O(n)。"
   ]
  },
  {
   "cell_type": "markdown",
   "metadata": {},
   "source": [
    "思路：\n",
    "+ 动态规划\n",
    "\n",
    "\n",
    "+ 状态定义：设动态规划表dp,dp[i]代表以元素nums[i]为结尾的连续子数组最大和\n",
    "+ 转移方程：若dp[i-1] < 0,则断开之前的数据，从新开始，即dp[i]=nums[i]，反之，则链接之前的数据\n",
    "  + dp[i-1] <= 0,dp[i]=nums[i]\n",
    "  + dp[i-1] > 0,dp[i]=dp[i-1]+nums[i]\n"
   ]
  },
  {
   "cell_type": "code",
   "execution_count": 1,
   "metadata": {},
   "outputs": [],
   "source": [
    "def sovle(nums):\n",
    "    dp=[]\n",
    "    dp[0]=nums[0]\n",
    "    for i in range(1,len(nums)):\n",
    "        dp[i]+=max(dp[i-1],0)\n",
    "    return max(dp)"
   ]
  },
  {
   "cell_type": "code",
   "execution_count": null,
   "metadata": {},
   "outputs": [],
   "source": []
  }
 ],
 "metadata": {
  "kernelspec": {
   "display_name": "Python 3.6.2 ('pytorch')",
   "language": "python",
   "name": "python3"
  },
  "language_info": {
   "codemirror_mode": {
    "name": "ipython",
    "version": 3
   },
   "file_extension": ".py",
   "mimetype": "text/x-python",
   "name": "python",
   "nbconvert_exporter": "python",
   "pygments_lexer": "ipython3",
   "version": "3.6.2"
  },
  "orig_nbformat": 4,
  "vscode": {
   "interpreter": {
    "hash": "1be8e1e697be24aa51be46f7515f4d96c6005120fc689094ce96895b044c9b1b"
   }
  }
 },
 "nbformat": 4,
 "nbformat_minor": 2
}
