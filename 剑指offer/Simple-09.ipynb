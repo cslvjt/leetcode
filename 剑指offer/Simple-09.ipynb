{
 "cells": [
  {
   "cell_type": "code",
   "execution_count": null,
   "metadata": {},
   "outputs": [],
   "source": [
    "class CQueue:\n",
    "\n",
    "    def __init__(self):\n",
    "        self.queue=[]\n",
    "\n",
    "    def appendTail(self, value: int) -> None:\n",
    "        self.queue.append(value)\n",
    "\n",
    "    def deleteHead(self) -> int:\n",
    "        if not self.queue:\n",
    "            return -1\n",
    "        v=self.queue[0]\n",
    "        del self.queue[0]\n",
    "        return v"
   ]
  }
 ],
 "metadata": {
  "language_info": {
   "name": "python"
  },
  "orig_nbformat": 4
 },
 "nbformat": 4,
 "nbformat_minor": 2
}
