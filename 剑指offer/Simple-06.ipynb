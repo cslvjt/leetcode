{
 "cells": [
  {
   "cell_type": "markdown",
   "metadata": {},
   "source": [
    "输入一个链表的头节点，从尾到头反过来返回每个节点的值（用数组返回）。"
   ]
  },
  {
   "cell_type": "markdown",
   "metadata": {},
   "source": [
    "思路：递归法。先遍历到链表末尾，再添加值。"
   ]
  },
  {
   "cell_type": "code",
   "execution_count": null,
   "metadata": {},
   "outputs": [],
   "source": [
    "def reversePrint(self, head: ListNode) -> List[int]:\n",
    "        if head==None:\n",
    "            return []\n",
    "        ans=[]\n",
    "        def solv(l:ListNode):\n",
    "            if l.next==None:\n",
    "                ans.append(l.val)\n",
    "            else:\n",
    "                solv(l.next)\n",
    "                ans.append(l.val)\n",
    "        solv(head)\n",
    "        return ans"
   ]
  }
 ],
 "metadata": {
  "language_info": {
   "name": "python"
  },
  "orig_nbformat": 4
 },
 "nbformat": 4,
 "nbformat_minor": 2
}
