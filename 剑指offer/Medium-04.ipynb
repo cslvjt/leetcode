{
 "cells": [
  {
   "cell_type": "markdown",
   "metadata": {},
   "source": [
    "在一个 n * m 的二维数组中，每一行都按照从左到右递增的顺序排序，每一列都按照从上到下递增的顺序排序。请完成一个高效的函数，输入这样的一个二维数组和一个整数，判断数组中是否含有该整数。\n",
    "\n",
    "来源：力扣（LeetCode）\n",
    "链接：https://leetcode.cn/problems/er-wei-shu-zu-zhong-de-cha-zhao-lcof\n",
    "著作权归领扣网络所有。商业转载请联系官方授权，非商业转载请注明出处。"
   ]
  },
  {
   "cell_type": "markdown",
   "metadata": {},
   "source": [
    "思路：~~按照矩阵特征，**每一行都按照从左到右递增的顺序排序，每一列都按照从上到下递增的顺序排序**。依次遍历每行最后一位数，如果target>matrix[row_index][m-1]，则row_index+1,否则，从头开始遍历该行。~~\n",
    "\n",
    "<font color=red>上述错误原因，上述条件不一定满足，最小的永远在前面</font>\n",
    "正确：将矩阵逆时针旋转45°，发现在每一棵子树左节点更小，右节点更大。\n",
    "<div align=center>\n",
    "<img src=./img/04.png width=60%>\n",
    "</div>\n",
    "时间复杂度：O(N+M)\n",
    "空间复杂度：O(1)"
   ]
  },
  {
   "cell_type": "code",
   "execution_count": 20,
   "metadata": {},
   "outputs": [
    {
     "data": {
      "text/plain": [
       "False"
      ]
     },
     "execution_count": 20,
     "metadata": {},
     "output_type": "execute_result"
    }
   ],
   "source": [
    "matrix=[[1,1]]\n",
    "target=0\n",
    "def main():\n",
    "    n=len(matrix)  #行\n",
    "    m=len(matrix[0]) #列\n",
    "    row,col=0,m-1\n",
    "    while row<n and col>=0:\n",
    "        if matrix[row][col]>target:\n",
    "            col-=1\n",
    "        elif matrix[row][col]<target:\n",
    "            row+=1\n",
    "        else:\n",
    "            return True\n",
    "    return False\n",
    "main()"
   ]
  },
  {
   "cell_type": "markdown",
   "metadata": {},
   "source": [
    "遇到的困难：\n",
    "+ 边界条件设置错误，即while循环的停止范围"
   ]
  }
 ],
 "metadata": {
  "kernelspec": {
   "display_name": "Python 3.6.2 ('pytorch')",
   "language": "python",
   "name": "python3"
  },
  "language_info": {
   "codemirror_mode": {
    "name": "ipython",
    "version": 3
   },
   "file_extension": ".py",
   "mimetype": "text/x-python",
   "name": "python",
   "nbconvert_exporter": "python",
   "pygments_lexer": "ipython3",
   "version": "3.6.2"
  },
  "orig_nbformat": 4,
  "vscode": {
   "interpreter": {
    "hash": "1be8e1e697be24aa51be46f7515f4d96c6005120fc689094ce96895b044c9b1b"
   }
  }
 },
 "nbformat": 4,
 "nbformat_minor": 2
}
