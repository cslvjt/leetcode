{
 "cells": [
  {
   "cell_type": "markdown",
   "metadata": {},
   "source": [
    "在字符串 s 中找出第一个只出现一次的字符。如果没有，返回一个单空格。 s 只包含小写字母。"
   ]
  },
  {
   "cell_type": "markdown",
   "metadata": {},
   "source": [
    "思路：哈希表"
   ]
  },
  {
   "cell_type": "code",
   "execution_count": null,
   "metadata": {},
   "outputs": [],
   "source": [
    "def main(s):\n",
    "    dic={}\n",
    "    for c in s:\n",
    "        dic[c] = not c in dic\n",
    "    for c in s:\n",
    "        if dic[c]:\n",
    "            return c\n",
    "    return ' '"
   ]
  }
 ],
 "metadata": {
  "language_info": {
   "name": "python"
  },
  "orig_nbformat": 4
 },
 "nbformat": 4,
 "nbformat_minor": 2
}
