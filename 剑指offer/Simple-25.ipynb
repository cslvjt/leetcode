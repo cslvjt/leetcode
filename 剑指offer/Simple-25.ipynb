{
 "cells": [
  {
   "cell_type": "markdown",
   "metadata": {},
   "source": [
    "输入两个递增排序的链表，合并这两个链表并使新链表中的节点仍然是递增排序的"
   ]
  },
  {
   "cell_type": "markdown",
   "metadata": {},
   "source": [
    "思路：双指针。分别指向两个链表，依次遍历。"
   ]
  },
  {
   "cell_type": "code",
   "execution_count": null,
   "metadata": {},
   "outputs": [],
   "source": [
    "class Solution:\n",
    "    def mergeTwoLists(self, l1: ListNode, l2: ListNode) -> ListNode:\n",
    "        cur=head=ListNode(0)\n",
    "        while l1 and l2:\n",
    "            if l1.val<l2.val:\n",
    "                cur.next=l1\n",
    "                l1=l1.next\n",
    "            else:\n",
    "                cur.next=l2\n",
    "                l2=l2.next\n",
    "            cur=cur.next\n",
    "        cur.next= l1 if l1 else l2\n",
    "        return head.next"
   ]
  }
 ],
 "metadata": {
  "language_info": {
   "name": "python"
  },
  "orig_nbformat": 4
 },
 "nbformat": 4,
 "nbformat_minor": 2
}
