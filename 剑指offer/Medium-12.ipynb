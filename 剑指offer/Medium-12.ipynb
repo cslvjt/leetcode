{
 "cells": [
  {
   "cell_type": "markdown",
   "metadata": {},
   "source": [
    "解析：广搜或者深搜"
   ]
  },
  {
   "cell_type": "code",
   "execution_count": 11,
   "metadata": {},
   "outputs": [
    {
     "name": "stdout",
     "output_type": "stream",
     "text": [
      "None\n"
     ]
    }
   ],
   "source": [
    "def exist():\n",
    "    board=[[\"A\",\"B\",\"C\",\"E\"],[\"S\",\"F\",\"C\",\"S\"],[\"A\",\"D\",\"E\",\"E\"]]\n",
    "    word=\"ABCCED\"\n",
    "    width,height=len(board),len(board[0])\n",
    "    strword=\"\"\n",
    "    def dfs(x,y,strw):\n",
    "        if strw== word:\n",
    "            return True\n",
    "        if not 0<=x<width or not 0<=y<height or board[x][y] is \"0\":\n",
    "            return False\n",
    "        strw+=board[x][y]\n",
    "        board[x][y]=\"0\"\n",
    "        res=dfs(x+1,y,strw) or dfs(x-1,y,strw) or dfs(x,y+1,strw) or dfs(x,y-1,strw)\n",
    "        \n",
    "        return res\n",
    "    for x in range(0,width):\n",
    "        for y in range(0,height):\n",
    "            res=dfs(x,y,strword)\n",
    "            if res:\n",
    "                return True\n",
    "print(exist())"
   ]
  },
  {
   "cell_type": "code",
   "execution_count": null,
   "metadata": {},
   "outputs": [],
   "source": [
    "class Solution:\n",
    "    def exist(self, board: List[List[str]], word: str) -> bool:\n",
    "        def dfs(i, j, k):\n",
    "            if not 0 <= i < len(board) or not 0 <= j < len(board[0]) or board[i][j] != word[k]: \n",
    "                return False\n",
    "            if k == len(word) - 1: \n",
    "                return True\n",
    "            board[i][j] = ''\n",
    "            res = dfs(i + 1, j, k + 1) or dfs(i - 1, j, k + 1) or dfs(i, j + 1, k + 1) or dfs(i, j - 1, k + 1)\n",
    "            board[i][j] = word[k] #回溯\n",
    "            return res\n",
    "\n",
    "        for i in range(len(board)):\n",
    "            for j in range(len(board[0])):\n",
    "                if dfs(i, j, 0): return True\n",
    "        return False\n"
   ]
  }
 ],
 "metadata": {
  "kernelspec": {
   "display_name": "Python 3.6.2 ('pytorch')",
   "language": "python",
   "name": "python3"
  },
  "language_info": {
   "codemirror_mode": {
    "name": "ipython",
    "version": 3
   },
   "file_extension": ".py",
   "mimetype": "text/x-python",
   "name": "python",
   "nbconvert_exporter": "python",
   "pygments_lexer": "ipython3",
   "version": "3.6.2"
  },
  "orig_nbformat": 4,
  "vscode": {
   "interpreter": {
    "hash": "1be8e1e697be24aa51be46f7515f4d96c6005120fc689094ce96895b044c9b1b"
   }
  }
 },
 "nbformat": 4,
 "nbformat_minor": 2
}
