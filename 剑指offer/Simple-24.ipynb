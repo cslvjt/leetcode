{
 "cells": [
  {
   "cell_type": "markdown",
   "metadata": {},
   "source": [
    "定义一个函数，输入一个链表的头节点，反转该链表并输出反转后链表的头节点。"
   ]
  },
  {
   "cell_type": "markdown",
   "metadata": {},
   "source": [
    "# 双指针"
   ]
  },
  {
   "cell_type": "code",
   "execution_count": null,
   "metadata": {},
   "outputs": [],
   "source": [
    "def reverseList(self, head: ListNode) -> ListNode:\n",
    "    cur, pre = head, None\n",
    "    while cur:\n",
    "        tmp = cur.next # 暂存后继节点 cur.next\n",
    "        cur.next = pre # 修改 next 引用指向\n",
    "        pre = cur      # pre 暂存 cur\n",
    "        cur = tmp      # cur 访问下一节点\n",
    "    return pre"
   ]
  },
  {
   "cell_type": "markdown",
   "metadata": {},
   "source": [
    "# 递归方法"
   ]
  },
  {
   "cell_type": "markdown",
   "metadata": {},
   "source": [
    "利用函数的性质"
   ]
  },
  {
   "cell_type": "code",
   "execution_count": null,
   "metadata": {},
   "outputs": [],
   "source": [
    "class Solution:\n",
    "    def reverseList(self, head: ListNode) -> ListNode:\n",
    "        def recur(cur, pre):\n",
    "            if not cur: return pre     # 终止条件\n",
    "            res = recur(cur.next, cur) # 递归后继节点\n",
    "            cur.next = pre             # 修改节点引用指向\n",
    "            return res                 # 返回反转链表的头节点\n",
    "        \n",
    "        return recur(head, None)       # 调用递归并返回\n"
   ]
  }
 ],
 "metadata": {
  "kernelspec": {
   "display_name": "Python 3.6.2 ('pytorch')",
   "language": "python",
   "name": "python3"
  },
  "language_info": {
   "name": "python",
   "version": "3.6.2"
  },
  "orig_nbformat": 4,
  "vscode": {
   "interpreter": {
    "hash": "1be8e1e697be24aa51be46f7515f4d96c6005120fc689094ce96895b044c9b1b"
   }
  }
 },
 "nbformat": 4,
 "nbformat_minor": 2
}
