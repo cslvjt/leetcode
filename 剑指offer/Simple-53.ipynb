{
 "cells": [
  {
   "cell_type": "markdown",
   "metadata": {},
   "source": [
    "一个长度为n-1的递增排序数组中的所有数字都是唯一的，并且每个数字都在范围0～n-1之内。在范围0～n-1内的n个数字中有且只有一个数字不在该数组中，请找出这个数字。\n"
   ]
  },
  {
   "cell_type": "markdown",
   "metadata": {},
   "source": [
    "思路：\n",
    "+ 暴力搜索\n",
    "+ 二分法"
   ]
  },
  {
   "cell_type": "markdown",
   "metadata": {},
   "source": [
    "# 暴力搜索\n",
    "假设n=6,nums=[0,1,2,4,5],nums[n/2]==n-1，那么说明前面的序列正常，从后面寻找。依次循环。"
   ]
  },
  {
   "cell_type": "code",
   "execution_count": null,
   "metadata": {},
   "outputs": [],
   "source": [
    "nums=[0,1,2,3,4,5,6,7,9]\n",
    "def solve():\n",
    "    i,j=0,len(nums)-1\n",
    "    while i<=j:\n",
    "        m=(i+j)//2 #取中点\n",
    "        if nums[m]==m:\n",
    "            i=m+1 #前半部分正常\n",
    "        else:\n",
    "            j=m-1 #后半部分正常\n",
    "    return i\n",
    "\n",
    "\n",
    "    "
   ]
  }
 ],
 "metadata": {
  "language_info": {
   "name": "python"
  },
  "orig_nbformat": 4
 },
 "nbformat": 4,
 "nbformat_minor": 2
}
