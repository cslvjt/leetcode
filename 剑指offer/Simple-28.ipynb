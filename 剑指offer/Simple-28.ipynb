{
 "cells": [
  {
   "cell_type": "markdown",
   "metadata": {},
   "source": [
    "请实现一个函数，用来判断一棵二叉树是不是对称的。如果一棵二叉树和它的镜像一样，那么它是对称的。"
   ]
  },
  {
   "cell_type": "markdown",
   "metadata": {},
   "source": [
    "思路：和simple-27一样\n",
    "+ 递归"
   ]
  },
  {
   "cell_type": "markdown",
   "metadata": {},
   "source": [
    "+ 对称二叉树定义：\n",
    "  + L.val=R.val\n",
    "  + L.left.val=R.right.val\n",
    "  + L.right.val=R.left.val\n",
    "+ 算法过程\n",
    "  + isSymmetric(root):\n",
    "    + 当根节点为空。直接返回true\n",
    "    + 返回recur(root.left,root.right)\n",
    "  + recur(L,R):\n",
    "    + 终止条件\n",
    "      + 当L和R同时越过叶节点：树从顶至底的节点都对称，因此返回true\n",
    "      + 当节点L值不等于节点R的值：不对称，返回false\n",
    "      + 当L或R只有一个越过叶节点：不对称，返回false\n",
    "    + 递推工作：\n",
    "      + 判断两节点L.left和R.right是否对称，即recur(L.left,R.right)\n",
    "      + 判断两节点L.right和R.left是否对称，即recur(L.right,R.left)\n",
    "    + 由于两对节点都对称时才是对称树，因此使用&&连接"
   ]
  },
  {
   "cell_type": "code",
   "execution_count": null,
   "metadata": {},
   "outputs": [],
   "source": [
    "def isSymmetric(root):\n",
    "    def recur(L,R):\n",
    "        if not L and not R: #终止条件一\n",
    "            return True\n",
    "        if not L or not R or L.val != R.val: #终止条件三\n",
    "            return False\n",
    "        return recur(L.left,R.right) and recur(L.right,R.left)\n",
    "    return recur(root.left,root.right) if root else True"
   ]
  }
 ],
 "metadata": {
  "kernelspec": {
   "display_name": "Python 3.6.2 ('pytorch')",
   "language": "python",
   "name": "python3"
  },
  "language_info": {
   "name": "python",
   "version": "3.6.2"
  },
  "orig_nbformat": 4,
  "vscode": {
   "interpreter": {
    "hash": "1be8e1e697be24aa51be46f7515f4d96c6005120fc689094ce96895b044c9b1b"
   }
  }
 },
 "nbformat": 4,
 "nbformat_minor": 2
}
