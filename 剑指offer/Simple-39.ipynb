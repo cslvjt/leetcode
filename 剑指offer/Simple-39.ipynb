{
 "cells": [
  {
   "cell_type": "markdown",
   "metadata": {},
   "source": [
    "数组中有一个数字出现的次数超过数组长度的一半，请找出这个数字。"
   ]
  },
  {
   "cell_type": "markdown",
   "metadata": {},
   "source": [
    "思路：\n",
    "+ 哈希表统计：遍历数组，用hashmap统计数字数量\n",
    "+ 数组排序：数组中点的元素为众数\n",
    "+ 摩尔投票：核心理念为票正负相消"
   ]
  },
  {
   "cell_type": "markdown",
   "metadata": {},
   "source": [
    "# 摩尔投票法\n",
    "+ 假如记众数的票数为+1，非众数的票数为-1，那么所有数字的票数和>0\n",
    "+ 若数组的前a个数字票数和为0，则数组剩余(n-1)个数字的票数和>0，即后(n-a)个数字的众数为x"
   ]
  },
  {
   "cell_type": "code",
   "execution_count": null,
   "metadata": {},
   "outputs": [],
   "source": [
    "def solve(nums):\n",
    "    votes=0\n",
    "    for num in nums:\n",
    "        if votes ==0:\n",
    "            x=num\n",
    "        votes+=1 if num==x else -1\n",
    "    return x"
   ]
  }
 ],
 "metadata": {
  "language_info": {
   "name": "python"
  },
  "orig_nbformat": 4
 },
 "nbformat": 4,
 "nbformat_minor": 2
}
