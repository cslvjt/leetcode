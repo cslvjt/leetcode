{
 "cells": [
  {
   "cell_type": "markdown",
   "metadata": {},
   "source": [
    "# 数学推导\n",
    "吐槽：实在没想到还有数学推导"
   ]
  },
  {
   "cell_type": "code",
   "execution_count": null,
   "metadata": {},
   "outputs": [],
   "source": [
    "import math\n",
    "def cuttingRope(self, n: int) -> int:\n",
    "    if n <= 3: \n",
    "        return n - 1\n",
    "    a, b = n // 3, n % 3\n",
    "    if b == 0: \n",
    "        return int(math.pow(3, a))\n",
    "    if b == 1: \n",
    "        return int(math.pow(3, a - 1) * 4)\n",
    "    return int(math.pow(3, a) * 2)\n"
   ]
  },
  {
   "cell_type": "markdown",
   "metadata": {},
   "source": [
    "# 动态规划"
   ]
  }
 ],
 "metadata": {
  "language_info": {
   "name": "python"
  },
  "orig_nbformat": 4
 },
 "nbformat": 4,
 "nbformat_minor": 2
}
