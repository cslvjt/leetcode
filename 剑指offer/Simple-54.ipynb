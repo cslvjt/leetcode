{
 "cells": [
  {
   "cell_type": "markdown",
   "metadata": {},
   "source": [
    "给定一棵二叉搜索树，请找出其中第 k 大的节点的值。"
   ]
  },
  {
   "cell_type": "markdown",
   "metadata": {},
   "source": [
    "思路：\n",
    "+ 定义：二叉搜索树又称为二叉排序树，它或者是一棵空树，或者是具有以下性质的二叉树：\n",
    "  + 若它的左子树不为空，则左子树上所有结点的值都小于根结点的值。\n",
    "  + 若它的右子树不为空，则右子树上所有结点的值都大于根结点的值。\n",
    "  + 它的左右子树也分别是二叉搜索树。\n",
    "\n",
    "因此二叉搜索树的中序遍历为递增遍历。\n",
    "\n",
    "中序遍历，“左、根、右”，用DFS\n"
   ]
  },
  {
   "cell_type": "code",
   "execution_count": null,
   "metadata": {},
   "outputs": [],
   "source": []
  },
  {
   "cell_type": "markdown",
   "metadata": {},
   "source": []
  }
 ],
 "metadata": {
  "language_info": {
   "name": "python"
  },
  "orig_nbformat": 4
 },
 "nbformat": 4,
 "nbformat_minor": 2
}
