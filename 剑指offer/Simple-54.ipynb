{
 "cells": [
  {
   "cell_type": "markdown",
   "metadata": {},
   "source": [
    "给定一棵二叉搜索树，请找出其中第 k 大的节点的值。"
   ]
  },
  {
   "cell_type": "markdown",
   "metadata": {},
   "source": [
    "思路：\n",
    "+ 定义：二叉搜索树又称为二叉排序树，它或者是一棵空树，或者是具有以下性质的二叉树：\n",
    "  + 若它的左子树不为空，则左子树上所有结点的值都小于根结点的值。\n",
    "  + 若它的右子树不为空，则右子树上所有结点的值都大于根结点的值。\n",
    "  + 它的左右子树也分别是二叉搜索树。\n",
    "\n",
    "因此二叉搜索树的中序遍历为递增遍历。\n",
    "\n",
    "中序遍历，“左、根、右”，用DFS。\n",
    "\n",
    "中序遍历的倒叙：“右根左”，则是递减遍历，用来找出第k大的节点。\n",
    "\n",
    "为了求出第k个节点，需要实现以下三项工作：\n",
    "  1. 递归遍历时计数，统计当前节点的序号。\n",
    "  2. 递归到第k个节点时，应记录结果res\n",
    "  3. 记录结果后终止遍历\n"
   ]
  },
  {
   "cell_type": "code",
   "execution_count": null,
   "metadata": {},
   "outputs": [],
   "source": [
    "class Solution:\n",
    "    def kthLargest(self, root: TreeNode, k: int) -> int:\n",
    "        def dfs(root):\n",
    "            if not root: \n",
    "                return\n",
    "            dfs(root.right)\n",
    "            if self.k == 0: \n",
    "                return\n",
    "            self.k -= 1\n",
    "            if self.k == 0: \n",
    "                self.res = root.val\n",
    "            dfs(root.left)\n",
    "\n",
    "        self.k = k\n",
    "        dfs(root)\n",
    "        return self.res\n"
   ]
  }
 ],
 "metadata": {
  "language_info": {
   "name": "python"
  },
  "orig_nbformat": 4
 },
 "nbformat": 4,
 "nbformat_minor": 2
}
