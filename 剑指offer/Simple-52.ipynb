{
 "cells": [
  {
   "cell_type": "markdown",
   "metadata": {},
   "source": [
    "输入两个链表，找出它们的第一个公共节点。"
   ]
  },
  {
   "cell_type": "markdown",
   "metadata": {},
   "source": [
    "思路：\n",
    "设「第一个公共节点」为 node ，「链表 headA」的节点数量为 aa ，「链表 headB」的节点数量为 bb ，「两链表的公共尾部」的节点数量为 cc ，则有：\n",
    "\n",
    "+ 头节点 headA 到 node 前，共有a−c 个节点；\n",
    "+ 头节点 headB 到 node 前，共有b−c 个节点；\n",
    "\n"
   ]
  },
  {
   "cell_type": "code",
   "execution_count": null,
   "metadata": {},
   "outputs": [],
   "source": [
    "class Solution:\n",
    "    def getIntersectionNode(self, headA: ListNode, headB: ListNode) -> ListNode:\n",
    "        A, B = headA, headB\n",
    "        while A != B:\n",
    "            A = A.next if A else headB\n",
    "            B = B.next if B else headA\n",
    "        return A\n",
    "\n",
    "作者：jyd\n",
    "链接：https://leetcode.cn/problems/liang-ge-lian-biao-de-di-yi-ge-gong-gong-jie-dian-lcof/solution/jian-zhi-offer-52-liang-ge-lian-biao-de-gcruu/\n",
    "来源：力扣（LeetCode）\n",
    "著作权归作者所有。商业转载请联系作者获得授权，非商业转载请注明出处。"
   ]
  }
 ],
 "metadata": {
  "language_info": {
   "name": "python"
  },
  "orig_nbformat": 4
 },
 "nbformat": 4,
 "nbformat_minor": 2
}
