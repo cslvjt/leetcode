{
 "cells": [
  {
   "cell_type": "markdown",
   "metadata": {},
   "source": [
    "输入两个链表，找出它们的第一个公共节点。"
   ]
  },
  {
   "cell_type": "markdown",
   "metadata": {},
   "source": [
    "思路：\n",
    "设「第一个公共节点」为 node ，「链表 headA」的节点数量为a ，「链表 headB」的节点数量为b ，「两链表的公共尾部」的节点数量为c ，则有：\n",
    "\n",
    "+ 头节点 headA 到 node 前，共有a−c 个节点；\n",
    "+ 头节点 headB 到 node 前，共有b−c 个节点；\n",
    "\n"
   ]
  },
  {
   "cell_type": "markdown",
   "metadata": {},
   "source": [
    "构建两个节点指针A和B分别指向两链表头节点headA,headB,\n",
    "+ 当A先遍历链表headA，再遍历headB，当走到node时共走步数:a+(b-c)\n",
    "+ 当B先遍历链表headB，再遍历headA，当走到node时共走步数:b+(a-c)\n",
    "\n",
    "当指针A，B重合，有两种情况:a+(b-c)=b+(a-c)\n",
    "\n",
    "1. 若两链表有公共尾部(即c>0):指针A,B同时指向第一个公共节点node\n",
    "2. 若链表无公共尾部(即c=0):指针A,B同时指向null\n",
    "因此返回A即可。"
   ]
  },
  {
   "cell_type": "code",
   "execution_count": null,
   "metadata": {},
   "outputs": [],
   "source": [
    "class Solution:\n",
    "    def getIntersectionNode(self, headA: ListNode, headB: ListNode) -> ListNode:\n",
    "        A, B = headA, headB\n",
    "        while A != B:\n",
    "            A = A.next if A else headB\n",
    "            B = B.next if B else headA\n",
    "        return A"
   ]
  }
 ],
 "metadata": {
  "language_info": {
   "name": "python"
  },
  "orig_nbformat": 4
 },
 "nbformat": 4,
 "nbformat_minor": 2
}
