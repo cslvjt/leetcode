{
 "cells": [
  {
   "cell_type": "markdown",
   "metadata": {},
   "source": [
    "思路：二分查找"
   ]
  },
  {
   "cell_type": "code",
   "execution_count": null,
   "metadata": {},
   "outputs": [],
   "source": [
    "i,j=0,len(nums)-1\n",
    "while i<j:\n",
    "    if nums[i]+nums[j]>target:\n",
    "        j-=1\n",
    "    elif nums[i]+nums[j]<target:\n",
    "        i+=1\n",
    "    else:\n",
    "        return [nums[i],nums[j]]"
   ]
  }
 ],
 "metadata": {
  "language_info": {
   "name": "python"
  },
  "orig_nbformat": 4
 },
 "nbformat": 4,
 "nbformat_minor": 2
}
