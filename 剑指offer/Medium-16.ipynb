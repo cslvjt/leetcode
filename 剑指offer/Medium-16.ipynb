{
 "cells": [
  {
   "cell_type": "markdown",
   "metadata": {},
   "source": [
    "实现 pow(x,n) ，即计算x的n次幂函数。不得使用库函数，同时不需要考虑大数问题"
   ]
  },
  {
   "cell_type": "markdown",
   "metadata": {},
   "source": [
    "# 暴力解题\n",
    "\n",
    "超时"
   ]
  },
  {
   "cell_type": "code",
   "execution_count": 5,
   "metadata": {},
   "outputs": [
    {
     "name": "stdout",
     "output_type": "stream",
     "text": [
      "0.25\n"
     ]
    }
   ],
   "source": [
    "x=2\n",
    "n=-2\n",
    "ans=1\n",
    "if n==0:\n",
    "    print(ans)\n",
    "if n>0:\n",
    "    while n:\n",
    "        ans=ans*x\n",
    "        n-=1\n",
    "else:\n",
    "    while n:\n",
    "        ans=ans/x\n",
    "        n+=1\n",
    "print(ans)"
   ]
  },
  {
   "cell_type": "markdown",
   "metadata": {},
   "source": [
    "# 快速幂\n",
    "+ 当n为偶数:$x^n=(x^2)^{n//2}$\n",
    "+ 当n为奇数:$x^n=x(x^2)^{n//2}$\n",
    "  \n",
    "举例：\n",
    "$x^9=x((x^2)^2)^2$"
   ]
  },
  {
   "cell_type": "code",
   "execution_count": null,
   "metadata": {},
   "outputs": [],
   "source": [
    "x=2\n",
    "n=2\n",
    "ans=1\n",
    "if x==0:\n",
    "    print(0)\n",
    "if n<0:\n",
    "    x=1/x\n",
    "    n=-n\n",
    "while n:\n",
    "    if n&1:\n",
    "        ans*=x\n",
    "    x*=x\n",
    "    n=n>>1\n",
    "\n"
   ]
  }
 ],
 "metadata": {
  "kernelspec": {
   "display_name": "Python 3.6.2 ('pytorch')",
   "language": "python",
   "name": "python3"
  },
  "language_info": {
   "codemirror_mode": {
    "name": "ipython",
    "version": 3
   },
   "file_extension": ".py",
   "mimetype": "text/x-python",
   "name": "python",
   "nbconvert_exporter": "python",
   "pygments_lexer": "ipython3",
   "version": "3.6.2"
  },
  "orig_nbformat": 4,
  "vscode": {
   "interpreter": {
    "hash": "1be8e1e697be24aa51be46f7515f4d96c6005120fc689094ce96895b044c9b1b"
   }
  }
 },
 "nbformat": 4,
 "nbformat_minor": 2
}
