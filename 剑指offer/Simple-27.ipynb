{
 "cells": [
  {
   "cell_type": "markdown",
   "metadata": {},
   "source": [
    "输入二叉树，求出其镜像"
   ]
  },
  {
   "cell_type": "markdown",
   "metadata": {},
   "source": [
    "思路：\n",
    "+ 递归法\n",
    "+ 辅助栈"
   ]
  },
  {
   "cell_type": "markdown",
   "metadata": {},
   "source": [
    "# 递归法\n",
    "DFS遍历二叉树，交换每个节点的左右子节点\n",
    "\n",
    "递归过程\n",
    "1. 终止条件：节点为空，返回null\n",
    "2. 递推过程：\n",
    "   1. 初始化节点tmp，暂存root的左子节点\n",
    "   2. 开启递归右子节点，并将返回值作为root的左子节点\n",
    "   3. 递归左子节点，并将返回值作为root的右子节点\n",
    "3. 返回值：返回root "
   ]
  },
  {
   "cell_type": "markdown",
   "metadata": {},
   "source": [
    "Q:为什么要暂存左子节点？\n",
    "\n",
    "A：在递归右子节点 “root.left = mirrorTree(root.right);root.left=mirrorTree(root.right);” 执行完毕后， root.leftroot.left 的值已经发生改变，此时递归左子节点 mirrorTree(root.left)mirrorTree(root.left) 则会出问题。\n"
   ]
  },
  {
   "cell_type": "code",
   "execution_count": null,
   "metadata": {},
   "outputs": [],
   "source": [
    "class Solution:\n",
    "    def mirrorTree(self, root: TreeNode) -> TreeNode:\n",
    "        if not root: return\n",
    "        root.left, root.right = self.mirrorTree(root.right), self.mirrorTree(root.left)\n",
    "        return root\n"
   ]
  }
 ],
 "metadata": {
  "kernelspec": {
   "display_name": "Python 3.6.2 ('pytorch')",
   "language": "python",
   "name": "python3"
  },
  "language_info": {
   "name": "python",
   "version": "3.6.2"
  },
  "orig_nbformat": 4,
  "vscode": {
   "interpreter": {
    "hash": "1be8e1e697be24aa51be46f7515f4d96c6005120fc689094ce96895b044c9b1b"
   }
  }
 },
 "nbformat": 4,
 "nbformat_minor": 2
}
