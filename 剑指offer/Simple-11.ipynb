{
 "cells": [
  {
   "cell_type": "markdown",
   "metadata": {},
   "source": [
    "题目解释：这道题的含义是将一个**可能存在重复元素的升序数组**，旋转一次之后，求出最小值。"
   ]
  },
  {
   "cell_type": "markdown",
   "metadata": {},
   "source": [
    "方法一：暴力求解\n",
    "\n",
    "线性查找，找出转折点，即nums[i]>nums[i+1]。但是注意一点；如果数组元素值全部一样，那么将num[0]返回。\n",
    "时间复杂度：O(n)"
   ]
  },
  {
   "cell_type": "code",
   "execution_count": null,
   "metadata": {},
   "outputs": [],
   "source": [
    "def minArray(self, numbers: List[int]) -> int:\n",
    "    base=numbers[0]\n",
    "    for num in numbers:\n",
    "        if base> num:\n",
    "            return num\n",
    "    return base"
   ]
  },
  {
   "cell_type": "markdown",
   "metadata": {},
   "source": [
    "方法二：二分法\n",
    "\n",
    "作者：jyd\n",
    "\n",
    "链接：https://leetcode.cn/problems/xuan-zhuan-shu-zu-de-zui-xiao-shu-zi-lcof/solution/mian-shi-ti-11-xuan-zhuan-shu-zu-de-zui-xiao-shu-3/\n",
    "\n",
    "来源：力扣（LeetCode）\n",
    "\n",
    "著作权归作者所有。商业转载请联系作者获得授权，非商业转载请注明出处。"
   ]
  },
  {
   "cell_type": "code",
   "execution_count": null,
   "metadata": {},
   "outputs": [],
   "source": [
    " def minArray(self, numbers: [int]) -> int:\n",
    "        i, j = 0, len(numbers) - 1\n",
    "        while i < j:\n",
    "            m = (i + j) // 2\n",
    "            if numbers[m] > numbers[j]: i = m + 1\n",
    "            elif numbers[m] < numbers[j]: j = m\n",
    "            else: j -= 1\n",
    "        return numbers[i]\n",
    "\n"
   ]
  }
 ],
 "metadata": {
  "kernelspec": {
   "display_name": "Python 3.6.2 ('pytorch')",
   "language": "python",
   "name": "python3"
  },
  "language_info": {
   "name": "python",
   "version": "3.6.2"
  },
  "orig_nbformat": 4,
  "vscode": {
   "interpreter": {
    "hash": "1be8e1e697be24aa51be46f7515f4d96c6005120fc689094ce96895b044c9b1b"
   }
  }
 },
 "nbformat": 4,
 "nbformat_minor": 2
}
