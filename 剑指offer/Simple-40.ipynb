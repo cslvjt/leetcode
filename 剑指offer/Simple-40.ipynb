{
 "cells": [
  {
   "cell_type": "markdown",
   "metadata": {},
   "source": [
    "输入整数数组 arr ，找出其中最小的 k 个数。例如，输入4、5、1、6、2、7、3、8这8个数字，则最小的4个数字是1、2、3、4。\n",
    "\n",
    " "
   ]
  },
  {
   "cell_type": "markdown",
   "metadata": {},
   "source": [
    "思路:\n",
    "+ 快速排序"
   ]
  },
  {
   "cell_type": "markdown",
   "metadata": {},
   "source": [
    "# 快速排序\n",
    "原理：快速排序有两个核心点，分别为“哨兵划分”和“递归”。\n",
    "\n",
    "+ 哨兵划分：以数组某个元素为基准数，将所有小于基准数的元素移动至左边，大于基准数的移动至右边。\n",
    "+ 递归：对左子数组和右子数组递归执行哨兵划分，直至子数组长度为1时终止递归。\n",
    "\n",
    "复杂度分析：\n",
    "\n",
    "+ 时间复杂度O(NlogN)\n",
    "+ 空间复杂度O(N)\n"
   ]
  },
  {
   "cell_type": "code",
   "execution_count": null,
   "metadata": {},
   "outputs": [],
   "source": [
    "def quickSort(arr,left,right):\n",
    "    if left>=right:\n",
    "        return\n",
    "    i,j=left,right\n",
    "    while i<j:\n",
    "        while i<j and arr[j]>=arr[left]:\n",
    "            j-=1\n",
    "        while i<j and arr[i]<=arr[left]:\n",
    "            i+=1\n",
    "        arr[left],arr[right]=arr[i],arr[j]\n",
    "        quickSort(arr,left,i-1)\n",
    "        quickSort(arr,i+1,right)\n"
   ]
  }
 ],
 "metadata": {
  "language_info": {
   "name": "python"
  },
  "orig_nbformat": 4
 },
 "nbformat": 4,
 "nbformat_minor": 2
}
