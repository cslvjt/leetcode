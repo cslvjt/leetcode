{
 "cells": [
  {
   "cell_type": "markdown",
   "metadata": {},
   "source": [
    "输入整数数组 arr ，找出其中最小的 k 个数。例如，输入4、5、1、6、2、7、3、8这8个数字，则最小的4个数字是1、2、3、4。\n",
    "\n",
    " "
   ]
  },
  {
   "cell_type": "markdown",
   "metadata": {},
   "source": [
    "思路:\n",
    "+ 快速排序\n",
    "+ 基于快速排序的数组划分"
   ]
  },
  {
   "cell_type": "markdown",
   "metadata": {},
   "source": [
    "# 快速排序\n",
    "原理：快速排序有两个核心点，分别为“哨兵划分”和“递归”。\n",
    "\n",
    "+ 哨兵划分：以数组某个元素为基准数，将所有小于基准数的元素移动至左边，大于基准数的移动至右边。\n",
    "+ 递归：对左子数组和右子数组递归执行哨兵划分，直至子数组长度为1时终止递归。\n",
    "\n",
    "复杂度分析：\n",
    "\n",
    "+ 时间复杂度O(NlogN)\n",
    "+ 空间复杂度O(N)\n"
   ]
  },
  {
   "cell_type": "code",
   "execution_count": null,
   "metadata": {},
   "outputs": [],
   "source": [
    "def quickSort(arr,left,right):\n",
    "    if left>=right:\n",
    "        return\n",
    "    i,j=left,right\n",
    "    # 以left为基准，划分数组\n",
    "    while i<j:\n",
    "        #比left大\n",
    "        while i<j and arr[j]>=arr[left]:\n",
    "            j-=1\n",
    "        #比left小\n",
    "        while i<j and arr[i]<=arr[left]:\n",
    "            i+=1\n",
    "        # 交换两者位置，接着寻找\n",
    "        arr[i],arr[j]=arr[j],arr[i]\n",
    "    # 将基准元素放置划分点\n",
    "    arr[left],arr[i]=arr[i],arr[left]\n",
    "    quickSort(arr,left,i-1)\n",
    "    quickSort(arr,i+1,right)\n"
   ]
  },
  {
   "cell_type": "markdown",
   "metadata": {},
   "source": [
    "# 基于快速排序的数组划分"
   ]
  },
  {
   "cell_type": "markdown",
   "metadata": {},
   "source": [
    "原理：\n",
    "\n",
    "和快速排序的过程相同。但是题目要求只返回最小的k个数，对这k个数的顺序没有要求。因此，只需要将数组划分为**最小的k个数**和**其他数组**。\n",
    "\n",
    "如果某次哨兵划分后基准数正好是第k+1小的数组，那么基准数左边的所有数组便是题目所求的最小的k个数。\n",
    "\n",
    "+ 哨兵划分：基准数为arr[i],划分完后的左右子数组区间为[l.i-i],[i+1,r]\n",
    "+ 递归：\n",
    "    + 若k < i，表示第k+1小的数字在**左子数组**，递归左子数组\n",
    "    + 若k > i，表示第k+1小的数字在**右子数组中**，递归右子数组\n",
    "    + 若k = i，代表arr[k]为第k+1小的数字\n"
   ]
  },
  {
   "cell_type": "markdown",
   "metadata": {},
   "source": [
    "空间复杂度O(logN)：划分函数的平均递归深度为O(logN)\n",
    "\n",
    "时间复杂度O(N)：对于长度为N的数组执行哨兵划分操作，复杂度为O(N)；每一轮哨兵划分后根据k和i的大小关系选择递归，由于i分布的随机性，则向下递归的子数组平均长度为$\\frac{N}{2}$;因此哨兵划分操作有$N+\\frac{N}{2}+\\frac{N}{4}+...+\\frac{N}{N}=2N-1$"
   ]
  },
  {
   "cell_type": "code",
   "execution_count": null,
   "metadata": {},
   "outputs": [],
   "source": [
    "k=4\n",
    "def quickSort(arr,left,right):\n",
    "    i,j=left,right\n",
    "    while i<j:\n",
    "        #比left大\n",
    "        while i<j and arr[j]>=arr[left]:\n",
    "            j-=1\n",
    "        #比left小\n",
    "        while i<j and arr[i]<=arr[left]:\n",
    "            i+=1\n",
    "        # 交换两者位置，接着寻找\n",
    "        arr[i],arr[j]=arr[j],arr[i]\n",
    "    arr[left], arr[i] = arr[i], arr[left] # 容易忽视！！！\n",
    "    if k<i:\n",
    "        return quickSort(arr,left,i-1)\n",
    "    if k>i:\n",
    "        return quickSort(arr,i+1,right)\n",
    "    return arr[:k]\n"
   ]
  }
 ],
 "metadata": {
  "kernelspec": {
   "display_name": "Python 3.6.2 ('pytorch')",
   "language": "python",
   "name": "python3"
  },
  "language_info": {
   "name": "python",
   "version": "3.6.2"
  },
  "orig_nbformat": 4,
  "vscode": {
   "interpreter": {
    "hash": "1be8e1e697be24aa51be46f7515f4d96c6005120fc689094ce96895b044c9b1b"
   }
  }
 },
 "nbformat": 4,
 "nbformat_minor": 2
}
