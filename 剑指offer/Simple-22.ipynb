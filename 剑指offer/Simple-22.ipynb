{
 "cells": [
  {
   "cell_type": "markdown",
   "metadata": {},
   "source": [
    "输入一个链表，输出该链表中倒数第k个节点。为了符合大多数人的习惯，本题从1开始计数，即链表的尾节点是倒数第1个节点。"
   ]
  },
  {
   "cell_type": "markdown",
   "metadata": {},
   "source": [
    "思路：双指针，第一个指针指着第i个节点，第二个指针指着第i+n个节点，当第二个指针到达末尾，则返回第一个指针"
   ]
  },
  {
   "cell_type": "code",
   "execution_count": null,
   "metadata": {},
   "outputs": [],
   "source": [
    "p=head\n",
    "for _ in range(0,k):\n",
    "    p=p.next\n",
    "    q=head\n",
    "    while p:\n",
    "        q=q.next\n",
    "        p=p.next\n",
    "return q"
   ]
  }
 ],
 "metadata": {
  "language_info": {
   "name": "python"
  },
  "orig_nbformat": 4
 },
 "nbformat": 4,
 "nbformat_minor": 2
}
