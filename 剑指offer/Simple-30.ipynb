{
 "cells": [
  {
   "cell_type": "markdown",
   "metadata": {},
   "source": [
    "定义栈的数据结构，请在该类型中实现一个能够得到栈的最小元素的 min 函数在该栈中，调用 min、push 及 pop 的时间复杂度都是O(1)"
   ]
  },
  {
   "cell_type": "markdown",
   "metadata": {},
   "source": [
    "有更好的解法"
   ]
  },
  {
   "cell_type": "code",
   "execution_count": null,
   "metadata": {},
   "outputs": [],
   "source": [
    "class MinStack:\n",
    "\n",
    "    def __init__(self):\n",
    "        \"\"\"\n",
    "        initialize your data structure here.\n",
    "        \"\"\"\n",
    "        self.minNum=100000\n",
    "        self.list=[]\n",
    "        self.length=-1\n",
    "    def push(self, x: int) -> None:\n",
    "        self.list.append(x)\n",
    "        self.length+=1\n",
    "        if x<self.minNum:\n",
    "            self.minNum=x\n",
    "\n",
    "    def pop(self) -> None:\n",
    "        del self.list[self.length]\n",
    "        self.length-=1\n",
    "\n",
    "    def top(self) -> int:\n",
    "        return self.list[self.length]\n",
    "\n",
    "    def min(self) -> int:\n",
    "        return min(self.list)"
   ]
  }
 ],
 "metadata": {
  "language_info": {
   "name": "python"
  },
  "orig_nbformat": 4
 },
 "nbformat": 4,
 "nbformat_minor": 2
}
