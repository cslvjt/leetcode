{
 "cells": [
  {
   "cell_type": "markdown",
   "metadata": {},
   "source": [
    "输入一个矩阵，按照从外向里以顺时针的顺序依次打印出每一个数字。"
   ]
  },
  {
   "cell_type": "code",
   "execution_count": 2,
   "metadata": {},
   "outputs": [
    {
     "data": {
      "text/plain": [
       "[1, 2, 3, 6, 9, 8, 7, 4, 5]"
      ]
     },
     "execution_count": 2,
     "metadata": {},
     "output_type": "execute_result"
    }
   ],
   "source": [
    "matrix=[[1,2,3],[4,5,6],[7,8,9]]\n",
    "def solve():\n",
    "    ans=[]\n",
    "    l,r,t,b=0,len(matrix[0])-1,0,len(matrix)-1\n",
    "    while True:\n",
    "        for i in range(l,r+1):\n",
    "            ans.append(matrix[t][i])\n",
    "        t+=1\n",
    "        if t>b:\n",
    "            break\n",
    "        for i in range(t,b+1):\n",
    "            ans.append(matrix[i][r])\n",
    "        r-=1\n",
    "        if l>r:\n",
    "            break\n",
    "        for i in range(r,l-1,-1):\n",
    "            ans.append(matrix[b][i])\n",
    "        b-=1\n",
    "        if t>b:\n",
    "            break\n",
    "        for i in range(b,t-1,-1):\n",
    "            ans.append(matrix[i][l])\n",
    "        l+=1\n",
    "        if l>r:\n",
    "            break\n",
    "    return ans\n",
    "solve()\n"
   ]
  }
 ],
 "metadata": {
  "kernelspec": {
   "display_name": "Python 3.6.2 ('pytorch')",
   "language": "python",
   "name": "python3"
  },
  "language_info": {
   "codemirror_mode": {
    "name": "ipython",
    "version": 3
   },
   "file_extension": ".py",
   "mimetype": "text/x-python",
   "name": "python",
   "nbconvert_exporter": "python",
   "pygments_lexer": "ipython3",
   "version": "3.6.2"
  },
  "orig_nbformat": 4,
  "vscode": {
   "interpreter": {
    "hash": "1be8e1e697be24aa51be46f7515f4d96c6005120fc689094ce96895b044c9b1b"
   }
  }
 },
 "nbformat": 4,
 "nbformat_minor": 2
}
