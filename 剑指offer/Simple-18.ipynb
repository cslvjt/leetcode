{
 "cells": [
  {
   "cell_type": "markdown",
   "metadata": {},
   "source": [
    "给定单向链表的头指针和一个要删除的节点的值，定义一个函数删除该节点。\n",
    "\n",
    "返回删除后的链表的头节点"
   ]
  },
  {
   "cell_type": "markdown",
   "metadata": {},
   "source": [
    "简单的链表操作，注意当head.val==val时需要返回head.next\n",
    "\n",
    "```\n",
    "# Definition for singly-linked list.\n",
    "# class ListNode:\n",
    "#     def __init__(self, x):\n",
    "#         self.val = x\n",
    "#         self.next = None\n",
    "class Solution:\n",
    "    def deleteNode(self, head: ListNode, val: int) -> ListNode:\n",
    "        p=head\n",
    "        q=head.next\n",
    "        if head.val==val:\n",
    "            return head.next\n",
    "        while q:\n",
    "            if q.val==val:\n",
    "                p.next=q.next\n",
    "            p=p.next\n",
    "            q=q.next\n",
    "        return head\n",
    "```"
   ]
  }
 ],
 "metadata": {
  "kernelspec": {
   "display_name": "Python 3.6.2 ('pytorch')",
   "language": "python",
   "name": "python3"
  },
  "language_info": {
   "name": "python",
   "version": "3.6.2"
  },
  "orig_nbformat": 4,
  "vscode": {
   "interpreter": {
    "hash": "1be8e1e697be24aa51be46f7515f4d96c6005120fc689094ce96895b044c9b1b"
   }
  }
 },
 "nbformat": 4,
 "nbformat_minor": 2
}
